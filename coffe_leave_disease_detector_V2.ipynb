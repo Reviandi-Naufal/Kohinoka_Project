{
  "nbformat": 4,
  "nbformat_minor": 0,
  "metadata": {
    "accelerator": "GPU",
    "colab": {
      "name": "coffe_leave_disease_detector_V2.ipynb",
      "provenance": [],
      "collapsed_sections": [],
      "toc_visible": true,
      "include_colab_link": true
    },
    "kernelspec": {
      "display_name": "Python 3",
      "name": "python3"
    },
    "language_info": {
      "name": "python"
    }
  },
  "cells": [
    {
      "cell_type": "markdown",
      "metadata": {
        "id": "view-in-github",
        "colab_type": "text"
      },
      "source": [
        "<a href=\"https://colab.research.google.com/github/Militensire/Kohinoka_Project/blob/main/coffe_leave_disease_detector_V2.ipynb\" target=\"_parent\"><img src=\"https://colab.research.google.com/assets/colab-badge.svg\" alt=\"Open In Colab\"/></a>"
      ]
    },
    {
      "cell_type": "markdown",
      "metadata": {
        "id": "QuVW8Nz75Dzs"
      },
      "source": [
        "# <b>Preparation<b>"
      ]
    },
    {
      "cell_type": "markdown",
      "metadata": {
        "id": "7IVB8xSPlaOU"
      },
      "source": [
        "## <i>Import Library Dependencies<i>"
      ]
    },
    {
      "cell_type": "code",
      "metadata": {
        "colab": {
          "base_uri": "https://localhost:8080/"
        },
        "id": "eu-rmOPkoEv6",
        "outputId": "fff045c9-82e7-4b87-8a65-b8853f60eb8b"
      },
      "source": [
        "import numpy as np\n",
        "import matplotlib.pylab as plt\n",
        "\n",
        "import tensorflow as tf\n",
        "import tensorflow_hub as hub\n",
        "\n",
        "#from tqdm import tqdm\n",
        "\n",
        "print(\"\\u2022 Using TensorFlow Version:\", tf.__version__)\n",
        "print(\"\\u2022 Using TensorFlow Hub Version: \", hub.__version__)\n",
        "print('\\u2022 GPU Device Found.' if tf.test.is_gpu_available() else '\\u2022 GPU Device Not Found. Running on CPU')"
      ],
      "execution_count": 1,
      "outputs": [
        {
          "output_type": "stream",
          "text": [
            "• Using TensorFlow Version: 2.4.1\n",
            "• Using TensorFlow Hub Version:  0.12.0\n",
            "WARNING:tensorflow:From <ipython-input-1-f10f6734d1b0>:11: is_gpu_available (from tensorflow.python.framework.test_util) is deprecated and will be removed in a future version.\n",
            "Instructions for updating:\n",
            "Use `tf.config.list_physical_devices('GPU')` instead.\n",
            "• GPU Device Found.\n"
          ],
          "name": "stdout"
        }
      ]
    },
    {
      "cell_type": "code",
      "metadata": {
        "id": "zRZ4Cn3Y1j3V"
      },
      "source": [
        "from tensorflow.keras.layers import Input, Lambda, Dense, Flatten\n",
        "from tensorflow.keras.models import Model\n",
        "#from tensorflow.keras.applications.inception_v3 import InceptionV3\n",
        "#from keras.applications.vgg16 import VGG16\n",
        "from tensorflow.keras.applications.inception_v3 import preprocess_input\n",
        "from tensorflow.keras.preprocessing import image\n",
        "from tensorflow.keras.preprocessing.image import ImageDataGenerator,load_img\n",
        "from tensorflow.keras.models import Sequential\n",
        "from tqdm import tqdm\n",
        "import numpy as np\n",
        "from glob import glob"
      ],
      "execution_count": 2,
      "outputs": []
    },
    {
      "cell_type": "markdown",
      "metadata": {
        "id": "_GxnSaHOl2jZ"
      },
      "source": [
        "## <i>Mount Drive to Input Dataset<i>"
      ]
    },
    {
      "cell_type": "markdown",
      "metadata": {
        "id": "QATcPWGEmHk9"
      },
      "source": [
        "Mount the drive which contain coffe leave rust and miner dataset."
      ]
    },
    {
      "cell_type": "code",
      "metadata": {
        "colab": {
          "base_uri": "https://localhost:8080/"
        },
        "id": "Y1UEjpQc6Xse",
        "outputId": "0089e45f-77bf-4dde-c6ea-c28dc473daa5"
      },
      "source": [
        "from google.colab import drive\n",
        "drive.mount(\"/content/drive\")"
      ],
      "execution_count": 3,
      "outputs": [
        {
          "output_type": "stream",
          "text": [
            "Mounted at /content/drive\n"
          ],
          "name": "stdout"
        }
      ]
    },
    {
      "cell_type": "markdown",
      "metadata": {
        "id": "2kJWynGDnTVw"
      },
      "source": [
        "## <i>Save the dataset to Colab<i>"
      ]
    },
    {
      "cell_type": "markdown",
      "metadata": {
        "id": "GfUpzINBmUvt"
      },
      "source": [
        "Unzip the the dataset and save it under '/tmp' directory. /tmp folder can be seen at the file section on the left window. "
      ]
    },
    {
      "cell_type": "code",
      "metadata": {
        "id": "q5uyq0gL6Xg6"
      },
      "source": [
        "import os\n",
        "import zipfile\n",
        "\n",
        "local_zip = '/content/drive/My Drive/kohinoka/coffe_leafe_complete_dataset.zip'\n",
        "\n",
        "zip_ref = zipfile.ZipFile(local_zip, 'r')\n",
        "\n",
        "zip_ref.extractall('/tmp')\n",
        "zip_ref.close()"
      ],
      "execution_count": 10,
      "outputs": []
    },
    {
      "cell_type": "markdown",
      "metadata": {
        "id": "mQBtSj_pm0Hu"
      },
      "source": [
        "define the train and validation folder path using OS library"
      ]
    },
    {
      "cell_type": "code",
      "metadata": {
        "id": "9pwiDZwrRbjB"
      },
      "source": [
        "base_dir = '/tmp/coffe_leafe_complete_dataset'\n",
        "\n",
        "train_dir = os.path.join(base_dir, 'train')\n",
        "test_dir = os.path.join(base_dir, 'test')\n",
        "\n",
        "# Directory with our training leaf pictures\n",
        "train_miner_dir = os.path.join(train_dir, 'miner')\n",
        "train_rust_dir = os.path.join(train_dir, 'rust')\n",
        "train_healthy_dir = os.path.join(train_dir, 'healthy')\n",
        "\n",
        "# Directory with our validation leaf pictures\n",
        "test_miner_dir = os.path.join(test_dir, 'predict')\n",
        "# test_rust_dir = os.path.join(test_dir, 'rust')"
      ],
      "execution_count": 11,
      "outputs": []
    },
    {
      "cell_type": "markdown",
      "metadata": {
        "id": "-mvTXBw94rlt"
      },
      "source": [
        "## <i>Cheking the Dataset<i>"
      ]
    },
    {
      "cell_type": "markdown",
      "metadata": {
        "id": "8sFlGTFtnBc5"
      },
      "source": [
        "Several codes below could help you to see some parts of the dataset"
      ]
    },
    {
      "cell_type": "code",
      "metadata": {
        "id": "sG4VEaW6Rbgt",
        "colab": {
          "base_uri": "https://localhost:8080/"
        },
        "outputId": "65f2d607-6e84-489d-baa8-d3bec02f3270"
      },
      "source": [
        "train_miner_fnames = os.listdir( train_miner_dir )\n",
        "train_rust_fnames = os.listdir( train_rust_dir )\n",
        "train_healthy_fnames = os.listdir( train_healthy_dir )\n",
        "\n",
        "print(train_miner_fnames[:10])\n",
        "print(train_rust_fnames[:10])\n",
        "print(train_healthy_fnames[:10])"
      ],
      "execution_count": 12,
      "outputs": [
        {
          "output_type": "stream",
          "text": [
            "['bicho_mineiro141.jpg', 'bicho_mineiro153.jpg', 'bicho_mineiro21.jpg', 'bicho_mineiro126.jpg', 'bicho_mineiro197.jpg', 'bicho_mineiro91.jpg', 'bicho_mineiro94.jpg', 'bicho_mineiro198.jpg', 'bicho_mineiro56.jpg', 'bicho_mineiro221.jpg']\n",
            "['name41.jpg', 'name113.jpg', 'name248.jpg', 'name280.jpg', 'name273.jpg', 'name173.jpg', 'name267.jpg', 'name101.jpg', 'name199.jpg', 'name208.jpg']\n",
            "['C3P5E1.jpg', 'C4P11H1.jpg', 'C2P23E1.jpg', 'C5P17E1.jpg', 'C2P1H2.jpg', 'C7P11H2.jpg', 'C6P34H2.jpg', 'C3P19E1.jpg', 'C11P6H1.jpg', 'C3P3E1.jpg']\n"
          ],
          "name": "stdout"
        }
      ]
    },
    {
      "cell_type": "code",
      "metadata": {
        "id": "3Kc2-HclRbdE"
      },
      "source": [
        "print('total training miner images :', len(os.listdir(train_miner_dir ) ))\n",
        "print('total training rust images :', len(os.listdir(train_rust_dir ) ))\n",
        "print('total training healthy images :', len(os.listdir(train_healthy_dir ) ))\n",
        "\n",
        "print('total test miner images :', len(os.listdir( test_miner_dir ) ))\n",
        "# print('total validation rust images :', len(os.listdir( validation_rust_dir ) ))"
      ],
      "execution_count": null,
      "outputs": []
    },
    {
      "cell_type": "code",
      "metadata": {
        "id": "YR0AqEQeRbXP"
      },
      "source": [
        "%matplotlib inline\n",
        "\n",
        "import matplotlib.image as mpimg\n",
        "import matplotlib.pyplot as plt\n",
        "\n",
        "# Parameters for our graph; we'll output images in a 4x4 configuration\n",
        "nrows = 6\n",
        "ncols = 4\n",
        "\n",
        "pic_index = 0 # Index for iterating over images"
      ],
      "execution_count": null,
      "outputs": []
    },
    {
      "cell_type": "code",
      "metadata": {
        "id": "z8ZgUMlWRbJ6"
      },
      "source": [
        "# Set up matplotlib fig, and size it to fit 4x4 pics\n",
        "fig = plt.gcf()\n",
        "fig.set_size_inches(ncols*4, nrows*4)\n",
        "\n",
        "pic_index+=8\n",
        "\n",
        "next_miner_pix = [os.path.join(train_miner_dir, fname) \n",
        "                for fname in train_miner_fnames[ pic_index-8:pic_index] \n",
        "               ]\n",
        "\n",
        "next_rust_pix = [os.path.join(train_rust_dir, fname) \n",
        "                for fname in train_rust_fnames[ pic_index-8:pic_index]\n",
        "               ]\n",
        "\n",
        "next_healthy_pix = [os.path.join(train_healthy_dir, fname) \n",
        "                for fname in train_healthy_fnames[ pic_index-8:pic_index]\n",
        "               ]\n",
        "\n",
        "for i, img_path in enumerate(next_miner_pix+next_rust_pix+next_healthy_pix):\n",
        "  # Set up subplot; subplot indices start at 1\n",
        "  sp = plt.subplot(nrows, ncols, i + 1)\n",
        "  sp.axis('Off') # Don't show axes (or gridlines)\n",
        "\n",
        "  img = mpimg.imread(img_path)\n",
        "  plt.imshow(img)\n",
        "\n",
        "plt.show()\n"
      ],
      "execution_count": null,
      "outputs": []
    },
    {
      "cell_type": "markdown",
      "metadata": {
        "id": "5qlzCX7743IN"
      },
      "source": [
        "# <b>Inception_V3 Model<b>"
      ]
    },
    {
      "cell_type": "markdown",
      "metadata": {
        "id": "437JDS7m5ePN"
      },
      "source": [
        "## <i>Model Preparation<i>\n",
        "\n",
        "*   Load the TensorFlow Hub Feature Vector. Select which model will be used.\n",
        "\n"
      ]
    },
    {
      "cell_type": "code",
      "metadata": {
        "id": "U9m7sg8JoE3l",
        "colab": {
          "base_uri": "https://localhost:8080/"
        },
        "outputId": "f5576a26-c076-4a9d-d7b1-07a0055bb8b8"
      },
      "source": [
        "module_selection = (\"inception_v3\", 150, 2048) #@param [\"(\\\"mobilenet_v2\\\", 224, 1280)\", \"(\\\"inception_v3\\\", 299, 2048)\"] {type:\"raw\", allow-input: true}\n",
        "handle_base, pixels, FV_SIZE = module_selection\n",
        "MODULE_HANDLE =\"https://tfhub.dev/google/tf2-preview/{}/feature_vector/4\".format(handle_base)\n",
        "IMAGE_SIZE = (pixels, pixels)\n",
        "\n",
        "feature_extractor = hub.KerasLayer(MODULE_HANDLE,\n",
        "                                   input_shape=IMAGE_SIZE + (3,), \n",
        "                                   output_shape=[FV_SIZE])\n",
        "\n",
        "print(\"Using {} with input size {} and output dimension {}\".format(handle_base, IMAGE_SIZE, FV_SIZE))"
      ],
      "execution_count": 13,
      "outputs": [
        {
          "output_type": "stream",
          "text": [
            "Using inception_v3 with input size (150, 150) and output dimension 2048\n"
          ],
          "name": "stdout"
        }
      ]
    },
    {
      "cell_type": "markdown",
      "metadata": {
        "id": "r9_ggQbw_Zoy"
      },
      "source": [
        "* Select if you want to do fine tuning"
      ]
    },
    {
      "cell_type": "code",
      "metadata": {
        "id": "GyKgXRoH79p3"
      },
      "source": [
        "do_fine_tuning = False #@param {type:\"boolean\"}\n",
        "\n",
        "if do_fine_tuning:\n",
        "    feature_extractor.trainable = True    \n",
        "else:\n",
        "    feature_extractor.trainable = False"
      ],
      "execution_count": 14,
      "outputs": []
    },
    {
      "cell_type": "markdown",
      "metadata": {
        "id": "yAsg8kjh_OPV"
      },
      "source": [
        "* Build the model"
      ]
    },
    {
      "cell_type": "code",
      "metadata": {
        "id": "PhZWnK-U-y_e",
        "colab": {
          "base_uri": "https://localhost:8080/"
        },
        "outputId": "dee11401-4dc1-442e-b2ba-4b6501b08e47"
      },
      "source": [
        "print(\"Building model with\", MODULE_HANDLE)\n",
        "\n",
        "model = tf.keras.Sequential([\n",
        "        feature_extractor,\n",
        "        tf.keras.layers.Dense(3, activation='softmax')\n",
        "])\n",
        "\n",
        "model.summary()"
      ],
      "execution_count": 15,
      "outputs": [
        {
          "output_type": "stream",
          "text": [
            "Building model with https://tfhub.dev/google/tf2-preview/inception_v3/feature_vector/4\n",
            "Model: \"sequential\"\n",
            "_________________________________________________________________\n",
            "Layer (type)                 Output Shape              Param #   \n",
            "=================================================================\n",
            "keras_layer (KerasLayer)     (None, 2048)              21802784  \n",
            "_________________________________________________________________\n",
            "dense (Dense)                (None, 3)                 6147      \n",
            "=================================================================\n",
            "Total params: 21,808,931\n",
            "Trainable params: 6,147\n",
            "Non-trainable params: 21,802,784\n",
            "_________________________________________________________________\n"
          ],
          "name": "stdout"
        }
      ]
    },
    {
      "cell_type": "markdown",
      "metadata": {
        "id": "KCrF0mFX_iw7"
      },
      "source": [
        "* Configure the model metrics"
      ]
    },
    {
      "cell_type": "code",
      "metadata": {
        "id": "ioIebUMi8fxh"
      },
      "source": [
        "if do_fine_tuning:\n",
        "    optimizer=tf.keras.optimizers.SGD(lr=0.005, momentum=0.9)\n",
        "else:\n",
        "    optimizer = 'adam'\n",
        "    # optimizer = 'rmsprop'\n",
        "    \n",
        "model.compile(optimizer=optimizer,\n",
        "              loss='categorical_crossentropy',\n",
        "              metrics=['accuracy'])"
      ],
      "execution_count": 16,
      "outputs": []
    },
    {
      "cell_type": "markdown",
      "metadata": {
        "id": "zMh3nYGD5Qwt"
      },
      "source": [
        "## <i>Generate Train and Test Image<i>"
      ]
    },
    {
      "cell_type": "markdown",
      "metadata": {
        "id": "k1c6J-kxhQxp"
      },
      "source": [
        "* Generate Dataset for training, validation, and testing"
      ]
    },
    {
      "cell_type": "code",
      "metadata": {
        "id": "bFnRVB0x5cxp"
      },
      "source": [
        "train_datagen = ImageDataGenerator(\n",
        "      rescale=1./255,\n",
        "      rotation_range=40,\n",
        "      width_shift_range=0.2,\n",
        "      height_shift_range=0.2,\n",
        "      shear_range=0.2,\n",
        "      zoom_range=0.2,\n",
        "      horizontal_flip=True,\n",
        "      fill_mode='nearest',\n",
        "      validation_split=0.20)\n",
        "\n",
        "test_datagen = ImageDataGenerator(rescale=1./255)"
      ],
      "execution_count": 17,
      "outputs": []
    },
    {
      "cell_type": "code",
      "metadata": {
        "id": "D7nzns6t5ccy",
        "colab": {
          "base_uri": "https://localhost:8080/"
        },
        "outputId": "ffb1c667-9a65-4d05-8cca-df84c6562ede"
      },
      "source": [
        "batch_size = 23\n",
        "\n",
        "train_generator = train_datagen.flow_from_directory(\n",
        "        train_dir,  # This is the source directory for training images\n",
        "        target_size= IMAGE_SIZE,  # All images will be resized to 150x150\n",
        "        batch_size=batch_size,\n",
        "        color_mode = 'rgb',\n",
        "        subset='training',\n",
        "        shuffle=True,\n",
        "        class_mode='categorical')\n",
        "\n",
        "valid_generator = train_datagen.flow_from_directory(\n",
        "        train_dir,  # This is the source directory for training images\n",
        "        target_size= IMAGE_SIZE,  # All images will be resized to 150x150\n",
        "        batch_size=batch_size,\n",
        "        color_mode = 'rgb',\n",
        "        subset='validation',\n",
        "        shuffle=True,\n",
        "        class_mode='categorical')\n",
        "\n",
        "test_generator = test_datagen.flow_from_directory(\n",
        "        test_dir,\n",
        "        target_size= IMAGE_SIZE,\n",
        "        color_mode=\"rgb\",\n",
        "        batch_size=1,\n",
        "        class_mode=None,\n",
        "        shuffle=False)\n"
      ],
      "execution_count": 18,
      "outputs": [
        {
          "output_type": "stream",
          "text": [
            "Found 591 images belonging to 3 classes.\n",
            "Found 146 images belonging to 3 classes.\n",
            "Found 88 images belonging to 1 classes.\n"
          ],
          "name": "stdout"
        }
      ]
    },
    {
      "cell_type": "code",
      "metadata": {
        "id": "zAbcquYxn2-5",
        "colab": {
          "base_uri": "https://localhost:8080/"
        },
        "outputId": "f5c2946d-d492-4c21-ac9f-0f8cc4a38a31"
      },
      "source": [
        "test_generator.num_classes"
      ],
      "execution_count": 19,
      "outputs": [
        {
          "output_type": "execute_result",
          "data": {
            "text/plain": [
              "1"
            ]
          },
          "metadata": {
            "tags": []
          },
          "execution_count": 19
        }
      ]
    },
    {
      "cell_type": "code",
      "metadata": {
        "colab": {
          "base_uri": "https://localhost:8080/"
        },
        "id": "JIL-of_NDEVS",
        "outputId": "fb6a9155-ca26-4203-ddab-d5d4bf51ae7a"
      },
      "source": [
        "# reduce_lr = tf.keras.callbacks.ReduceLROnPlateau(\n",
        "#     monitor='sparse_categorical_crossentropy', factor=0.2, patience=3, min_lr=0.0001\n",
        "# )\n",
        "# early = tf.keras.callbacks.EarlyStopping(\n",
        "#     monitor='sparse_categorical_crossentropy', patience=6, mode='auto'\n",
        "# )\n",
        "\n",
        "history = model.fit(\n",
        "      train_generator,\n",
        "      steps_per_epoch=train_generator.n//train_generator.batch_size,\n",
        "      epochs=5,\n",
        "      validation_data=train_generator,\n",
        "      validation_steps=valid_generator.n//valid_generator.batch_size,\n",
        "      verbose=1,\n",
        "      # callbacks=[reduce_lr,early]\n",
        "      )"
      ],
      "execution_count": 20,
      "outputs": [
        {
          "output_type": "stream",
          "text": [
            "Epoch 1/5\n",
            "25/25 [==============================] - 148s 5s/step - loss: 0.8539 - accuracy: 0.6365 - val_loss: 0.2533 - val_accuracy: 0.8841\n",
            "Epoch 2/5\n",
            "25/25 [==============================] - 110s 4s/step - loss: 0.2036 - accuracy: 0.9306 - val_loss: 0.2385 - val_accuracy: 0.8986\n",
            "Epoch 3/5\n",
            "25/25 [==============================] - 109s 4s/step - loss: 0.1712 - accuracy: 0.9352 - val_loss: 0.1158 - val_accuracy: 0.9565\n",
            "Epoch 4/5\n",
            "25/25 [==============================] - 111s 4s/step - loss: 0.1285 - accuracy: 0.9397 - val_loss: 0.1083 - val_accuracy: 0.9710\n",
            "Epoch 5/5\n",
            "25/25 [==============================] - 109s 4s/step - loss: 0.1072 - accuracy: 0.9657 - val_loss: 0.1507 - val_accuracy: 0.9348\n"
          ],
          "name": "stdout"
        }
      ]
    },
    {
      "cell_type": "markdown",
      "metadata": {
        "id": "zhoOsEFw6xd1"
      },
      "source": [
        "## <i>Plotting Loss and Accuracy<i>"
      ]
    },
    {
      "cell_type": "code",
      "metadata": {
        "colab": {
          "base_uri": "https://localhost:8080/",
          "height": 545
        },
        "id": "qLKwMX4Z6wRm",
        "outputId": "c7bae514-f372-4f9c-e4b8-0743254dbe42"
      },
      "source": [
        "import matplotlib.pyplot as plt\n",
        "acc = history.history['accuracy']\n",
        "val_acc = history.history['val_accuracy']\n",
        "loss = history.history['loss']\n",
        "val_loss = history.history['val_loss']\n",
        "\n",
        "epochs = range(len(acc))\n",
        "\n",
        "plt.plot(epochs, acc, 'bo', label='Training accuracy')\n",
        "plt.plot(epochs, val_acc, 'b', label='Validation accuracy')\n",
        "plt.title('Training and validation accuracy')\n",
        "\n",
        "plt.figure()\n",
        "\n",
        "plt.plot(epochs, loss, 'bo', label='Training Loss')\n",
        "plt.plot(epochs, val_loss, 'b', label='Validation Loss')\n",
        "plt.title('Training and validation loss')\n",
        "plt.legend()\n",
        "\n",
        "plt.show()"
      ],
      "execution_count": 21,
      "outputs": [
        {
          "output_type": "display_data",
          "data": {
            "image/png": "[encoded data removed]",
            "text/plain": [
              "<Figure size 432x288 with 1 Axes>"
            ]
          },
          "metadata": {
            "tags": [],
            "needs_background": "light"
          }
        },
        {
          "output_type": "display_data",
          "data": {
            "image/png": "[encoded data removed]",
            "text/plain": [
              "<Figure size 432x288 with 1 Axes>"
            ]
          },
          "metadata": {
            "tags": [],
            "needs_background": "light"
          }
        }
      ]
    },
    {
      "cell_type": "markdown",
      "metadata": {
        "id": "SCMKi9nZg9Sy"
      },
      "source": [
        "## <i>Testing the Model<i>"
      ]
    },
    {
      "cell_type": "markdown",
      "metadata": {
        "id": "XmM-Qf092SfR"
      },
      "source": [
        "<i> Evaluate loss and accuracy of the model<i>"
      ]
    },
    {
      "cell_type": "code",
      "metadata": {
        "colab": {
          "base_uri": "https://localhost:8080/"
        },
        "id": "n4Myi_LYPzjL",
        "outputId": "fbc116fc-2257-405c-931e-e4bb64f811f8"
      },
      "source": [
        "score = model.evaluate(valid_generator)\n",
        "# print('Test loss:', score[0])\n",
        "# print('Test accuracy:', score[1])"
      ],
      "execution_count": 22,
      "outputs": [
        {
          "output_type": "stream",
          "text": [
            "7/7 [==============================] - 19s 3s/step - loss: 0.1916 - accuracy: 0.9247\n"
          ],
          "name": "stdout"
        }
      ]
    },
    {
      "cell_type": "markdown",
      "metadata": {
        "id": "zufKnwMn178M"
      },
      "source": [
        "<i> Passing test_generator to the model<i>"
      ]
    },
    {
      "cell_type": "code",
      "metadata": {
        "colab": {
          "base_uri": "https://localhost:8080/"
        },
        "id": "RujFA8g2rNgA",
        "outputId": "2e6389f2-5f2b-477f-e844-ac64cd4c7a1f"
      },
      "source": [
        "pred = model.predict(test_generator) \n",
        "pred_healthy = np.argmax(pred, axis = 1)[:31]\n",
        "pred_miner = np.argmax(pred, axis = 1)[31:59] \n",
        "pred_rust = np.argmax(pred, axis = 1)[59:88]\n",
        "\n",
        "# Predict test data for healthy leaf\n",
        "print(pred_healthy)\n",
        "print(len(pred_healthy))\n",
        "# Predict test data for miner leaf\n",
        "print(pred_miner)\n",
        "print(len(pred_miner))\n",
        "# Predict test data for rust leaf\n",
        "print(pred_rust) \n",
        "print(len(pred_rust))"
      ],
      "execution_count": 23,
      "outputs": [
        {
          "output_type": "stream",
          "text": [
            "[0 0 0 0 0 0 0 0 0 0 0 0 0 0 0 0 0 0 0 0 0 0 0 0 0 0 0 0 0 0 0]\n",
            "31\n",
            "[1 1 1 1 1 1 1 2 1 2 1 1 1 1 2 1 1 2 1 1 1 1 2 1 2 1 1 1]\n",
            "28\n",
            "[2 2 2 2 2 2 2 2 2 2 2 2 2 2 2 2 2 2 2 2 2 2 2 2 2 2 2 2 2]\n",
            "29\n"
          ],
          "name": "stdout"
        }
      ]
    },
    {
      "cell_type": "markdown",
      "metadata": {
        "id": "Y3oSpp3W2qPT"
      },
      "source": [
        "Predict Uploaded Image"
      ]
    },
    {
      "cell_type": "code",
      "metadata": {
        "colab": {
          "resources": {
            "http://localhost:8080/nbextensions/google.colab/files.js": {
              "data": "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",
              "ok": true,
              "headers": [
                [
                  "content-type",
                  "application/javascript"
                ]
              ],
              "status": 200,
              "status_text": ""
            }
          },
          "base_uri": "https://localhost:8080/",
          "height": 242
        },
        "id": "jqy--SbZX3gA",
        "outputId": "5373769c-f4c7-48ff-dab9-52100f9587fa"
      },
      "source": [
        "import numpy as np\n",
        "from google.colab import files\n",
        "from keras.preprocessing import image\n",
        "\n",
        "uploaded = files.upload()\n",
        "\n",
        "for fn in uploaded.keys():\n",
        " \n",
        "  # predicting images\n",
        "  path = fn\n",
        "  img = image.load_img(path, target_size=(150, 150))\n",
        "  x = image.img_to_array(img)\n",
        "  # Rescale the image by 255\n",
        "  x= x/255\n",
        "  x = np.expand_dims(x, axis=0)\n",
        "\n",
        "  images = np.vstack([x])\n",
        "  classes = model.predict(images, batch_size=10)\n",
        "  pred_final = np.argmax(classes, axis=1)\n",
        "  # print(fn)\n",
        "  # print(classes)\n",
        "  # print(pred_final)\n",
        "\n",
        "  print(classes)\n",
        "  if classes[0][0]>0.5 :\n",
        "    print(fn + \" | Healthy Leaf\")\n",
        "  elif classes[0][1]>0.5 :\n",
        "    print(fn + \" | Leaf Miner\")\n",
        "  else :\n",
        "    print(fn + \" | Leaf Rust\")"
      ],
      "execution_count": 60,
      "outputs": [
        {
          "output_type": "display_data",
          "data": {
            "text/html": [
              "\n",
              "     <input type=\"file\" id=\"files-0543c3bd-6404-44c6-9453-68a8f754aad8\" name=\"files[]\" multiple disabled\n",
              "        style=\"border:none\" />\n",
              "     <output id=\"result-0543c3bd-6404-44c6-9453-68a8f754aad8\">\n",
              "      Upload widget is only available when the cell has been executed in the\n",
              "      current browser session. Please rerun this cell to enable.\n",
              "      </output>\n",
              "      <script src=\"/nbextensions/google.colab/files.js\"></script> "
            ],
            "text/plain": [
              "<IPython.core.display.HTML object>"
            ]
          },
          "metadata": {
            "tags": []
          }
        },
        {
          "output_type": "stream",
          "text": [
            "Saving bicho_mineiro231.jpg to bicho_mineiro231.jpg\n",
            "Saving C1P14E1.jpg to C1P14E1.jpg\n",
            "Saving name306.jpg to name306.jpg\n",
            "[[4.5202607e-05 9.7335118e-01 2.6603583e-02]]\n",
            "bicho_mineiro231.jpgLeaf Miner\n",
            "[[9.9895871e-01 2.6942409e-05 1.0143528e-03]]\n",
            "C1P14E1.jpgHealthy Leaf\n",
            "[[1.3974772e-05 1.1173747e-04 9.9987423e-01]]\n",
            "name306.jpgLeaf Rust\n"
          ],
          "name": "stdout"
        }
      ]
    },
    {
      "cell_type": "markdown",
      "metadata": {
        "id": "bERdfF58_25P"
      },
      "source": [
        "# MODEL DEPLOYMENT"
      ]
    },
    {
      "cell_type": "code",
      "metadata": {
        "id": "mCqCBzB8_1SR"
      },
      "source": [
        "CLDD_SAVED_MODEL = \"cldd_saved_model\""
      ],
      "execution_count": null,
      "outputs": []
    },
    {
      "cell_type": "markdown",
      "metadata": {
        "id": "5RnS_67cC7Ac"
      },
      "source": [
        "##Export The Saved Model"
      ]
    },
    {
      "cell_type": "code",
      "metadata": {
        "colab": {
          "base_uri": "https://localhost:8080/"
        },
        "id": "EtZwkjHvBFEJ",
        "outputId": "92aad9f3-aeba-4fa2-adab-005a55267fd7"
      },
      "source": [
        "tf.saved_model.save(model, CLDD_SAVED_MODEL)"
      ],
      "execution_count": null,
      "outputs": [
        {
          "output_type": "stream",
          "text": [
            "INFO:tensorflow:Assets written to: cldd_saved_model/assets\n"
          ],
          "name": "stdout"
        },
        {
          "output_type": "stream",
          "text": [
            "INFO:tensorflow:Assets written to: cldd_saved_model/assets\n"
          ],
          "name": "stderr"
        }
      ]
    },
    {
      "cell_type": "code",
      "metadata": {
        "colab": {
          "base_uri": "https://localhost:8080/"
        },
        "id": "nzR9Oa9GDB2b",
        "outputId": "ce05bc30-962b-469d-d7ad-b56e75448171"
      },
      "source": [
        "%%bash -s $CLDD_SAVED_MODEL\n",
        "saved_model_cli show --dir $1 --tag_set serve --signature_def serving_default"
      ],
      "execution_count": null,
      "outputs": [
        {
          "output_type": "stream",
          "text": [
            "The given SavedModel SignatureDef contains the following input(s):\n",
            "  inputs['keras_layer_input'] tensor_info:\n",
            "      dtype: DT_FLOAT\n",
            "      shape: (-1, 299, 299, 3)\n",
            "      name: serving_default_keras_layer_input:0\n",
            "The given SavedModel SignatureDef contains the following output(s):\n",
            "  outputs['dense'] tensor_info:\n",
            "      dtype: DT_FLOAT\n",
            "      shape: (-1, 3)\n",
            "      name: StatefulPartitionedCall:0\n",
            "Method name is: tensorflow/serving/predict\n"
          ],
          "name": "stdout"
        }
      ]
    },
    {
      "cell_type": "code",
      "metadata": {
        "id": "ZqGRYrfHDPot"
      },
      "source": [
        "loaded = tf.saved_model.load(CLDD_SAVED_MODEL)"
      ],
      "execution_count": null,
      "outputs": []
    },
    {
      "cell_type": "code",
      "metadata": {
        "colab": {
          "base_uri": "https://localhost:8080/"
        },
        "id": "UMtuCj29DaYL",
        "outputId": "5629e3fc-0da4-4f8c-ee2a-eaf6a57ad02f"
      },
      "source": [
        "print(list(loaded.signatures.keys()))\n",
        "infer = loaded.signatures[\"serving_default\"]\n",
        "print(infer.structured_input_signature)\n",
        "print(infer.structured_outputs)"
      ],
      "execution_count": null,
      "outputs": [
        {
          "output_type": "stream",
          "text": [
            "['serving_default']\n",
            "((), {'keras_layer_input': TensorSpec(shape=(None, 299, 299, 3), dtype=tf.float32, name='keras_layer_input')})\n",
            "{'dense': TensorSpec(shape=(None, 3), dtype=tf.float32, name='dense')}\n"
          ],
          "name": "stdout"
        }
      ]
    },
    {
      "cell_type": "markdown",
      "metadata": {
        "id": "eTR6boIEEC3M"
      },
      "source": [
        "## Convert  Using TFLite's Converter"
      ]
    },
    {
      "cell_type": "code",
      "metadata": {
        "id": "29_vCl7sD1yJ"
      },
      "source": [
        "converter = tf.lite.TFLiteConverter.from_saved_model(CLDD_SAVED_MODEL)\n",
        "converter.optimizations = [tf.lite.Optimize.OPTIMIZE_FOR_SIZE]\n",
        "tflite_model = converter.convert()"
      ],
      "execution_count": null,
      "outputs": []
    },
    {
      "cell_type": "code",
      "metadata": {
        "id": "VTh7HK0yENmn"
      },
      "source": [
        "tflite_model_file = 'cldd_saved_model_converter.tflite'\n",
        "\n",
        "with open(tflite_model_file, \"wb\") as f:\n",
        "    f.write(tflite_model)"
      ],
      "execution_count": null,
      "outputs": []
    },
    {
      "cell_type": "markdown",
      "metadata": {
        "id": "FNis4QHEEua1"
      },
      "source": [
        "## Test the TFLite Model Using the Python Interpreter"
      ]
    },
    {
      "cell_type": "code",
      "metadata": {
        "id": "_C0qvdnJElg-"
      },
      "source": [
        "# Load TFLite model and allocate tensors.\n",
        "with open(tflite_model_file, 'rb') as fid:\n",
        "    tflite_model = fid.read()\n",
        "    \n",
        "interpreter = tf.lite.Interpreter(model_content=tflite_model)\n",
        "interpreter.allocate_tensors()\n",
        "\n",
        "input_index = interpreter.get_input_details()[0][\"index\"]\n",
        "output_index = interpreter.get_output_details()[0][\"index\"]"
      ],
      "execution_count": null,
      "outputs": []
    },
    {
      "cell_type": "code",
      "metadata": {
        "colab": {
          "base_uri": "https://localhost:8080/"
        },
        "id": "RD7uYWdKErRG",
        "outputId": "a78e2375-b9d8-42b1-c51f-7a2d7b8d1854"
      },
      "source": [
        "# Gather results for the randomly sampled test images\n",
        "predictions = []\n",
        "\n",
        "test_labels, test_imgs = [], []\n",
        "for img, label in tqdm(test_dir.take(10)):\n",
        "    interpreter.set_tensor(input_index, img)\n",
        "    interpreter.invoke()\n",
        "    predictions.append(interpreter.get_tensor(output_index))\n",
        "    \n",
        "    test_labels.append(label.numpy()[0])\n",
        "    test_imgs.append(img)"
      ],
      "execution_count": null,
      "outputs": [
        {
          "output_type": "stream",
          "text": [
            "\n",
            "  0%|          | 0/88 [00:00<?, ?it/s]\u001b[A\n",
            "  1%|          | 1/88 [00:15<22:42, 15.66s/it]\u001b[A\n",
            "  2%|▏         | 2/88 [00:31<22:23, 15.62s/it]\u001b[A\n",
            "  3%|▎         | 3/88 [00:46<22:07, 15.61s/it]\u001b[A\n",
            "  5%|▍         | 4/88 [01:02<21:50, 15.60s/it]\u001b[A\n",
            "  6%|▌         | 5/88 [01:17<21:32, 15.57s/it]\u001b[A\n",
            "  7%|▋         | 6/88 [01:33<21:15, 15.55s/it]\u001b[A\n",
            "  8%|▊         | 7/88 [01:48<20:59, 15.54s/it]\u001b[A\n",
            "  9%|▉         | 8/88 [02:04<20:45, 15.57s/it]\u001b[A\n",
            " 10%|█         | 9/88 [02:19<20:26, 15.53s/it]\u001b[A\n",
            " 11%|█▏        | 10/88 [02:35<20:11, 15.53s/it]\u001b[A\n",
            " 12%|█▎        | 11/88 [02:51<19:55, 15.53s/it]\u001b[A\n",
            " 14%|█▎        | 12/88 [03:06<19:38, 15.51s/it]\u001b[A\n",
            " 15%|█▍        | 13/88 [03:21<19:22, 15.50s/it]\u001b[A\n",
            " 16%|█▌        | 14/88 [03:37<19:05, 15.49s/it]\u001b[A\n",
            " 17%|█▋        | 15/88 [03:52<18:50, 15.49s/it]\u001b[A\n",
            " 18%|█▊        | 16/88 [04:08<18:32, 15.45s/it]\u001b[A\n",
            " 19%|█▉        | 17/88 [04:23<18:14, 15.41s/it]\u001b[A\n",
            " 20%|██        | 18/88 [04:39<18:00, 15.44s/it]\u001b[A\n",
            " 22%|██▏       | 19/88 [04:54<17:46, 15.46s/it]\u001b[A\n",
            " 23%|██▎       | 20/88 [05:09<17:29, 15.44s/it]\u001b[A\n",
            " 24%|██▍       | 21/88 [05:25<17:12, 15.42s/it]\u001b[A\n",
            " 25%|██▌       | 22/88 [05:40<16:56, 15.40s/it]\u001b[A\n",
            " 26%|██▌       | 23/88 [05:56<16:41, 15.40s/it]\u001b[A\n",
            " 27%|██▋       | 24/88 [06:11<16:26, 15.42s/it]\u001b[A\n",
            " 28%|██▊       | 25/88 [06:27<16:12, 15.43s/it]\u001b[A\n",
            " 30%|██▉       | 26/88 [06:42<15:55, 15.41s/it]\u001b[A\n",
            " 31%|███       | 27/88 [06:57<15:40, 15.41s/it]\u001b[A\n",
            " 32%|███▏      | 28/88 [07:13<15:23, 15.40s/it]\u001b[A\n",
            " 33%|███▎      | 29/88 [07:28<15:10, 15.43s/it]\u001b[A\n",
            " 34%|███▍      | 30/88 [07:44<14:55, 15.44s/it]\u001b[A\n",
            " 35%|███▌      | 31/88 [07:59<14:41, 15.46s/it]\u001b[A\n",
            " 36%|███▋      | 32/88 [08:15<14:26, 15.47s/it]\u001b[A\n",
            " 38%|███▊      | 33/88 [08:30<14:11, 15.49s/it]\u001b[A\n",
            " 39%|███▊      | 34/88 [08:46<13:57, 15.51s/it]\u001b[A\n",
            " 40%|███▉      | 35/88 [09:01<13:43, 15.54s/it]\u001b[A\n",
            " 41%|████      | 36/88 [09:17<13:26, 15.51s/it]\u001b[A\n",
            " 42%|████▏     | 37/88 [09:32<13:09, 15.48s/it]\u001b[A\n",
            " 43%|████▎     | 38/88 [09:48<12:53, 15.47s/it]\u001b[A\n",
            " 44%|████▍     | 39/88 [10:03<12:38, 15.48s/it]\u001b[A\n",
            " 45%|████▌     | 40/88 [10:19<12:23, 15.49s/it]\u001b[A\n",
            " 47%|████▋     | 41/88 [10:34<12:06, 15.45s/it]\u001b[A\n",
            " 48%|████▊     | 42/88 [10:50<11:51, 15.46s/it]\u001b[A\n",
            " 49%|████▉     | 43/88 [11:05<11:35, 15.46s/it]\u001b[A\n",
            " 50%|█████     | 44/88 [11:20<11:20, 15.47s/it]\u001b[A\n",
            " 51%|█████     | 45/88 [11:36<11:05, 15.48s/it]\u001b[A\n",
            " 52%|█████▏    | 46/88 [11:51<10:49, 15.47s/it]\u001b[A\n",
            " 53%|█████▎    | 47/88 [12:07<10:33, 15.45s/it]\u001b[A\n",
            " 55%|█████▍    | 48/88 [12:22<10:17, 15.44s/it]\u001b[A\n",
            " 56%|█████▌    | 49/88 [12:38<10:01, 15.43s/it]\u001b[A\n",
            " 57%|█████▋    | 50/88 [12:53<09:47, 15.46s/it]\u001b[A\n",
            " 58%|█████▊    | 51/88 [13:09<09:31, 15.45s/it]\u001b[A\n",
            " 59%|█████▉    | 52/88 [13:24<09:14, 15.41s/it]\u001b[A\n",
            " 60%|██████    | 53/88 [13:39<08:59, 15.42s/it]\u001b[A\n",
            " 61%|██████▏   | 54/88 [13:55<08:43, 15.40s/it]\u001b[A\n",
            " 62%|██████▎   | 55/88 [14:10<08:29, 15.44s/it]\u001b[A\n",
            " 64%|██████▎   | 56/88 [14:26<08:13, 15.43s/it]\u001b[A\n",
            " 65%|██████▍   | 57/88 [14:41<07:57, 15.41s/it]\u001b[A\n",
            " 66%|██████▌   | 58/88 [14:56<07:42, 15.41s/it]\u001b[A\n",
            " 67%|██████▋   | 59/88 [15:12<07:27, 15.43s/it]\u001b[A\n",
            " 68%|██████▊   | 60/88 [15:27<07:12, 15.46s/it]\u001b[A\n",
            " 69%|██████▉   | 61/88 [15:43<06:58, 15.51s/it]\u001b[A\n",
            " 70%|███████   | 62/88 [15:59<06:44, 15.55s/it]\u001b[A\n",
            " 72%|███████▏  | 63/88 [16:14<06:29, 15.57s/it]\u001b[A\n",
            " 73%|███████▎  | 64/88 [16:30<06:13, 15.57s/it]\u001b[A\n",
            " 74%|███████▍  | 65/88 [16:45<05:58, 15.57s/it]\u001b[A\n",
            " 75%|███████▌  | 66/88 [17:01<05:42, 15.57s/it]\u001b[A\n",
            " 76%|███████▌  | 67/88 [17:16<05:25, 15.51s/it]\u001b[A\n",
            " 77%|███████▋  | 68/88 [17:32<05:09, 15.48s/it]\u001b[A\n",
            " 78%|███████▊  | 69/88 [17:47<04:53, 15.45s/it]\u001b[A\n",
            " 80%|███████▉  | 70/88 [18:03<04:38, 15.46s/it]\u001b[A\n",
            " 81%|████████  | 71/88 [18:18<04:22, 15.44s/it]\u001b[A\n",
            " 82%|████████▏ | 72/88 [18:34<04:07, 15.45s/it]\u001b[A\n",
            " 83%|████████▎ | 73/88 [18:49<03:51, 15.45s/it]\u001b[A\n",
            " 84%|████████▍ | 74/88 [19:05<03:37, 15.51s/it]\u001b[A\n",
            " 85%|████████▌ | 75/88 [19:20<03:21, 15.54s/it]\u001b[A\n",
            " 86%|████████▋ | 76/88 [19:36<03:06, 15.56s/it]\u001b[A\n",
            " 88%|████████▊ | 77/88 [19:51<02:51, 15.58s/it]\u001b[A\n",
            " 89%|████████▊ | 78/88 [20:07<02:35, 15.60s/it]\u001b[A\n",
            " 90%|████████▉ | 79/88 [20:23<02:20, 15.61s/it]\u001b[A\n",
            " 91%|█████████ | 80/88 [20:38<02:04, 15.57s/it]\u001b[A\n",
            " 92%|█████████▏| 81/88 [20:54<01:48, 15.52s/it]\u001b[A\n",
            " 93%|█████████▎| 82/88 [21:09<01:32, 15.50s/it]\u001b[A\n",
            " 94%|█████████▍| 83/88 [21:24<01:17, 15.47s/it]\u001b[A\n",
            " 95%|█████████▌| 84/88 [21:40<01:01, 15.47s/it]\u001b[A\n",
            " 97%|█████████▋| 85/88 [21:56<00:46, 15.56s/it]\u001b[A\n",
            " 98%|█████████▊| 86/88 [22:11<00:31, 15.63s/it]\u001b[A\n",
            " 99%|█████████▉| 87/88 [22:27<00:15, 15.60s/it]\u001b[A\n",
            "100%|██████████| 88/88 [22:42<00:00, 15.55s/it]\u001b[A\n",
            "89it [22:58, 15.55s/it]                        \u001b[A\n",
            "90it [23:13, 15.53s/it]\u001b[A\n",
            "91it [23:29, 15.51s/it]\u001b[A\n",
            "92it [23:44, 15.51s/it]\u001b[A\n",
            "93it [24:00, 15.48s/it]\u001b[A\n",
            "94it [24:15, 15.42s/it]\u001b[A\n",
            "95it [24:30, 15.39s/it]\u001b[A\n",
            "96it [24:46, 15.36s/it]\u001b[A\n",
            "97it [25:01, 15.34s/it]\u001b[A\n",
            "98it [25:16, 15.32s/it]\u001b[A\n",
            "99it [25:32, 15.31s/it]\u001b[A\n",
            "100it [25:47, 15.32s/it]\u001b[A\n",
            "101it [26:02, 15.35s/it]\u001b[A\n",
            "102it [26:18, 15.35s/it]\u001b[A\n",
            "103it [26:33, 15.32s/it]\u001b[A\n",
            "104it [26:48, 15.33s/it]\u001b[A\n",
            "105it [27:04, 15.34s/it]\u001b[A\n",
            "106it [27:19, 15.35s/it]\u001b[A\n",
            "107it [27:34, 15.35s/it]\u001b[A\n",
            "108it [27:50, 15.35s/it]\u001b[A\n",
            "109it [28:05, 15.34s/it]\u001b[A\n",
            "110it [28:21, 15.37s/it]\u001b[A\n",
            "111it [28:36, 15.39s/it]\u001b[A\n",
            "112it [28:51, 15.42s/it]\u001b[A\n",
            "113it [29:07, 15.42s/it]\u001b[A\n",
            "114it [29:22, 15.39s/it]\u001b[A\n",
            "115it [29:38, 15.39s/it]\u001b[A\n",
            "116it [29:53, 15.37s/it]\u001b[A\n",
            "117it [30:08, 15.38s/it]\u001b[A\n",
            "118it [30:24, 15.43s/it]\u001b[A\n",
            "119it [30:39, 15.44s/it]\u001b[A\n",
            "120it [30:55, 15.43s/it]\u001b[A\n",
            "121it [31:10, 15.44s/it]\u001b[A\n",
            "122it [31:26, 15.44s/it]\u001b[A\n",
            "123it [31:41, 15.45s/it]\u001b[A\n",
            "124it [31:57, 15.45s/it]\u001b[A\n",
            "125it [32:12, 15.42s/it]\u001b[A\n",
            "126it [32:27, 15.42s/it]\u001b[A\n",
            "127it [32:43, 15.41s/it]\u001b[A\n",
            "128it [32:58, 15.43s/it]\u001b[A\n",
            "129it [33:14, 15.41s/it]\u001b[A\n",
            "130it [33:29, 15.40s/it]\u001b[A\n",
            "131it [33:44, 15.37s/it]\u001b[A\n",
            "132it [34:00, 15.37s/it]\u001b[A\n",
            "133it [34:15, 15.38s/it]\u001b[A\n",
            "134it [34:31, 15.41s/it]\u001b[A\n",
            "135it [34:46, 15.42s/it]\u001b[A\n",
            "136it [35:01, 15.43s/it]\u001b[A\n",
            "137it [35:17, 15.41s/it]\u001b[A\n",
            "138it [35:32, 15.42s/it]\u001b[A\n",
            "139it [35:48, 15.44s/it]\u001b[A\n",
            "140it [36:03, 15.47s/it]\u001b[A\n",
            "141it [36:19, 15.47s/it]\u001b[A\n",
            "142it [36:34, 15.51s/it]\u001b[A\n",
            "143it [36:50, 15.51s/it]\u001b[A\n",
            "144it [37:05, 15.54s/it]\u001b[A\n",
            "145it [37:21, 15.55s/it]\u001b[A\n",
            "146it [37:36, 15.50s/it]\u001b[A\n",
            "147it [37:52, 15.50s/it]\u001b[A\n",
            "148it [38:07, 15.49s/it]\u001b[A\n",
            "149it [38:23, 15.50s/it]\u001b[A\n",
            "150it [38:38, 15.50s/it]\u001b[A\n",
            "151it [38:54, 15.51s/it]\u001b[A\n",
            "152it [39:09, 15.51s/it]\u001b[A\n",
            "153it [39:25, 15.52s/it]\u001b[A\n",
            "154it [39:41, 15.55s/it]\u001b[A\n",
            "155it [39:56, 15.66s/it]\u001b[A\n",
            "156it [40:12, 15.69s/it]\u001b[A\n",
            "157it [40:28, 15.69s/it]\u001b[A\n",
            "158it [40:44, 15.69s/it]\u001b[A\n",
            "159it [40:59, 15.66s/it]\u001b[A\n",
            "160it [41:15, 15.61s/it]\u001b[A\n",
            "161it [41:30, 15.54s/it]\u001b[A\n",
            "162it [41:46, 15.53s/it]\u001b[A\n",
            "163it [42:01, 15.52s/it]\u001b[A\n",
            "164it [42:17, 15.50s/it]\u001b[A\n",
            "165it [42:32, 15.54s/it]\u001b[A\n",
            "166it [42:48, 15.59s/it]\u001b[A\n",
            "167it [43:04, 15.63s/it]\u001b[A\n",
            "168it [43:19, 15.65s/it]\u001b[A\n",
            "169it [43:35, 15.70s/it]\u001b[A\n",
            "170it [43:51, 15.74s/it]\u001b[A\n",
            "171it [44:07, 15.78s/it]\u001b[A\n",
            "172it [44:23, 15.79s/it]\u001b[A\n",
            "173it [44:38, 15.79s/it]\u001b[A\n",
            "174it [44:54, 15.79s/it]\u001b[A\n",
            "175it [45:10, 15.75s/it]\u001b[A\n",
            "176it [45:26, 15.72s/it]\u001b[A\n",
            "177it [45:41, 15.68s/it]\u001b[A\n",
            "178it [45:57, 15.62s/it]\u001b[A\n",
            "179it [46:12, 15.57s/it]\u001b[A\n",
            "180it [46:28, 15.54s/it]\u001b[A\n",
            "181it [46:43, 15.56s/it]\u001b[A\n",
            "182it [46:59, 15.57s/it]\u001b[A\n",
            "183it [47:14, 15.57s/it]\u001b[A\n",
            "184it [47:30, 15.54s/it]\u001b[A\n",
            "185it [47:45, 15.55s/it]\u001b[A\n",
            "186it [48:01, 15.59s/it]\u001b[A\n",
            "187it [48:17, 15.57s/it]\u001b[A\n",
            "188it [48:32, 15.56s/it]\u001b[A\n",
            "189it [48:48, 15.55s/it]\u001b[A\n",
            "190it [49:03, 15.57s/it]\u001b[A\n",
            "191it [49:19, 15.54s/it]\u001b[A\n",
            "192it [49:34, 15.48s/it]\u001b[A\n",
            "193it [49:49, 15.45s/it]\u001b[A\n",
            "194it [50:05, 15.46s/it]\u001b[A\n",
            "195it [50:20, 15.48s/it]\u001b[A\n",
            "196it [50:36, 15.48s/it]\u001b[A\n",
            "197it [50:51, 15.44s/it]\u001b[A\n",
            "198it [51:07, 15.47s/it]\u001b[A\n",
            "199it [51:22, 15.50s/it]\u001b[A\n",
            "200it [51:38, 15.51s/it]\u001b[A\n",
            "201it [51:53, 15.54s/it]\u001b[A\n",
            "202it [52:09, 15.54s/it]\u001b[A\n",
            "203it [52:24, 15.50s/it]\u001b[A\n",
            "204it [52:40, 15.47s/it]\u001b[A\n",
            "205it [52:55, 15.49s/it]\u001b[A\n",
            "206it [53:11, 15.50s/it]\u001b[A\n",
            "207it [53:26, 15.53s/it]\u001b[A\n",
            "208it [53:42, 15.55s/it]\u001b[A\n",
            "209it [53:58, 15.59s/it]\u001b[A\n",
            "210it [54:14, 15.63s/it]\u001b[A\n",
            "211it [54:29, 15.64s/it]\u001b[A\n",
            "212it [54:45, 15.64s/it]\u001b[A\n",
            "213it [55:01, 15.67s/it]\u001b[A\n",
            "214it [55:16, 15.68s/it]\u001b[A\n",
            "215it [55:32, 15.66s/it]\u001b[A\n",
            "216it [55:47, 15.60s/it]\u001b[A\n",
            "217it [56:03, 15.62s/it]\u001b[A\n",
            "218it [56:19, 15.60s/it]\u001b[A\n",
            "219it [56:34, 15.61s/it]\u001b[A\n",
            "220it [56:50, 15.63s/it]\u001b[A\n",
            "221it [57:05, 15.60s/it]\u001b[A\n",
            "222it [57:21, 15.60s/it]\u001b[A\n",
            "223it [57:36, 15.58s/it]\u001b[A\n",
            "224it [57:52, 15.54s/it]\u001b[A\n",
            "225it [58:07, 15.52s/it]\u001b[A\n",
            "226it [58:23, 15.53s/it]\u001b[A\n",
            "227it [58:39, 15.54s/it]\u001b[A\n",
            "228it [58:54, 15.54s/it]\u001b[A\n",
            "229it [59:10, 15.51s/it]\u001b[A\n",
            "230it [59:25, 15.52s/it]\u001b[A\n",
            "231it [59:41, 15.53s/it]\u001b[A\n",
            "232it [59:56, 15.56s/it]\u001b[A\n",
            "233it [1:00:12, 15.56s/it]\u001b[A\n",
            "234it [1:00:27, 15.58s/it]\u001b[A\n",
            "235it [1:00:43, 15.64s/it]\u001b[A\n",
            "236it [1:00:59, 15.68s/it]\u001b[A\n",
            "237it [1:01:15, 15.73s/it]\u001b[A\n",
            "238it [1:01:31, 15.75s/it]\u001b[A\n",
            "239it [1:01:46, 15.73s/it]\u001b[A\n",
            "240it [1:02:02, 15.75s/it]\u001b[A\n",
            "241it [1:02:18, 15.74s/it]\u001b[A\n",
            "242it [1:02:34, 15.72s/it]\u001b[A\n",
            "243it [1:02:49, 15.73s/it]\u001b[A\n",
            "244it [1:03:05, 15.74s/it]\u001b[A\n",
            "245it [1:03:21, 15.69s/it]\u001b[A\n",
            "246it [1:03:36, 15.63s/it]\u001b[A\n",
            "247it [1:03:52, 15.57s/it]\u001b[A\n",
            "248it [1:04:07, 15.58s/it]\u001b[A\n",
            "249it [1:04:23, 15.55s/it]\u001b[A\n",
            "250it [1:04:38, 15.53s/it]\u001b[A\n",
            "251it [1:04:54, 15.55s/it]\u001b[A\n",
            "252it [1:05:09, 15.56s/it]\u001b[A\n",
            "253it [1:05:25, 15.57s/it]\u001b[A\n",
            "254it [1:05:40, 15.56s/it]\u001b[A\n",
            "255it [1:05:56, 15.60s/it]\u001b[A\n",
            "256it [1:06:12, 15.59s/it]\u001b[A\n",
            "257it [1:06:27, 15.54s/it]\u001b[A\n",
            "258it [1:06:43, 15.51s/it]\u001b[A\n",
            "259it [1:06:58, 15.51s/it]\u001b[A\n",
            "260it [1:07:14, 15.51s/it]\u001b[A\n",
            "261it [1:07:29, 15.53s/it]\u001b[A\n",
            "262it [1:07:45, 15.53s/it]\u001b[A\n",
            "263it [1:08:00, 15.54s/it]\u001b[A\n",
            "264it [1:08:16, 15.53s/it]\u001b[A\n",
            "265it [1:08:31, 15.52s/it]\u001b[A\n",
            "266it [1:08:47, 15.45s/it]\u001b[A\n",
            "267it [1:09:02, 15.42s/it]\u001b[A\n",
            "268it [1:09:17, 15.38s/it]\u001b[A\n",
            "269it [1:09:33, 15.38s/it]\u001b[A\n",
            "270it [1:09:48, 15.37s/it]\u001b[A\n",
            "271it [1:10:03, 15.35s/it]\u001b[A\n",
            "272it [1:10:18, 15.34s/it]\u001b[A\n",
            "273it [1:10:34, 15.34s/it]\u001b[A\n",
            "274it [1:10:49, 15.37s/it]\u001b[A"
          ],
          "name": "stderr"
        }
      ]
    },
    {
      "cell_type": "code",
      "metadata": {
        "colab": {
          "base_uri": "https://localhost:8080/",
          "height": 35
        },
        "id": "CevatlXQ2XvY",
        "outputId": "a5bb28df-bc31-4ac1-971d-b53e228f5c3b"
      },
      "source": [
        "test_dir"
      ],
      "execution_count": null,
      "outputs": [
        {
          "output_type": "execute_result",
          "data": {
            "application/vnd.google.colaboratory.intrinsic+json": {
              "type": "string"
            },
            "text/plain": [
              "'/tmp/coffe_leafe_complete_dataset/test'"
            ]
          },
          "metadata": {
            "tags": []
          },
          "execution_count": 41
        }
      ]
    },
    {
      "cell_type": "markdown",
      "metadata": {
        "id": "aqzVUclVIEUu"
      },
      "source": [
        "## Utility functions for plotting"
      ]
    },
    {
      "cell_type": "code",
      "metadata": {
        "id": "L9aJkRMLEzLd",
        "colab": {
          "base_uri": "https://localhost:8080/",
          "height": 412
        },
        "outputId": "bc9a4e9f-8f22-4dd4-bb45-aad33c670ad2"
      },
      "source": [
        "#@title Visualize the outputs { run: \"auto\" }\n",
        "index = 0 #@param {type:\"slider\", min:0, max:9, step:1}\n",
        "plt.figure(figsize=(6,3))\n",
        "plt.subplot(1,2,1)\n",
        "plot_image(index, predictions, test_labels, test_imgs)\n",
        "plt.show()"
      ],
      "execution_count": null,
      "outputs": [
        {
          "output_type": "error",
          "ename": "NameError",
          "evalue": "ignored",
          "traceback": [
            "\u001b[0;31m---------------------------------------------------------------------------\u001b[0m",
            "\u001b[0;31mNameError\u001b[0m                                 Traceback (most recent call last)",
            "\u001b[0;32m<ipython-input-36-f1f6a2fa5d54>\u001b[0m in \u001b[0;36m<module>\u001b[0;34m()\u001b[0m\n\u001b[1;32m      3\u001b[0m \u001b[0mplt\u001b[0m\u001b[0;34m.\u001b[0m\u001b[0mfigure\u001b[0m\u001b[0;34m(\u001b[0m\u001b[0mfigsize\u001b[0m\u001b[0;34m=\u001b[0m\u001b[0;34m(\u001b[0m\u001b[0;36m6\u001b[0m\u001b[0;34m,\u001b[0m\u001b[0;36m3\u001b[0m\u001b[0;34m)\u001b[0m\u001b[0;34m)\u001b[0m\u001b[0;34m\u001b[0m\u001b[0;34m\u001b[0m\u001b[0m\n\u001b[1;32m      4\u001b[0m \u001b[0mplt\u001b[0m\u001b[0;34m.\u001b[0m\u001b[0msubplot\u001b[0m\u001b[0;34m(\u001b[0m\u001b[0;36m1\u001b[0m\u001b[0;34m,\u001b[0m\u001b[0;36m2\u001b[0m\u001b[0;34m,\u001b[0m\u001b[0;36m1\u001b[0m\u001b[0;34m)\u001b[0m\u001b[0;34m\u001b[0m\u001b[0;34m\u001b[0m\u001b[0m\n\u001b[0;32m----> 5\u001b[0;31m \u001b[0mplot_image\u001b[0m\u001b[0;34m(\u001b[0m\u001b[0mindex\u001b[0m\u001b[0;34m,\u001b[0m \u001b[0mpredictions\u001b[0m\u001b[0;34m,\u001b[0m \u001b[0mtest_labels\u001b[0m\u001b[0;34m,\u001b[0m \u001b[0mtest_imgs\u001b[0m\u001b[0;34m)\u001b[0m\u001b[0;34m\u001b[0m\u001b[0;34m\u001b[0m\u001b[0m\n\u001b[0m\u001b[1;32m      6\u001b[0m \u001b[0mplt\u001b[0m\u001b[0;34m.\u001b[0m\u001b[0mshow\u001b[0m\u001b[0;34m(\u001b[0m\u001b[0;34m)\u001b[0m\u001b[0;34m\u001b[0m\u001b[0;34m\u001b[0m\u001b[0m\n",
            "\u001b[0;31mNameError\u001b[0m: name 'plot_image' is not defined"
          ]
        },
        {
          "output_type": "display_data",
          "data": {
            "image/png": "[encoded data removed]",
            "text/plain": [
              "<Figure size 432x216 with 1 Axes>"
            ]
          },
          "metadata": {
            "tags": [],
            "needs_background": "light"
          }
        }
      ]
    },
    {
      "cell_type": "code",
      "metadata": {
        "colab": {
          "base_uri": "https://localhost:8080/",
          "height": 180
        },
        "id": "G2xjB3ov1d92",
        "outputId": "8b26b77d-50e9-44ac-de40-89a03f512ff3"
      },
      "source": [
        "with open('labels.txt', 'w') as f:\n",
        "    f.write('\\n'.join(class_names))"
      ],
      "execution_count": null,
      "outputs": [
        {
          "output_type": "error",
          "ename": "NameError",
          "evalue": "ignored",
          "traceback": [
            "\u001b[0;31m---------------------------------------------------------------------------\u001b[0m",
            "\u001b[0;31mNameError\u001b[0m                                 Traceback (most recent call last)",
            "\u001b[0;32m<ipython-input-37-18c0bf098008>\u001b[0m in \u001b[0;36m<module>\u001b[0;34m()\u001b[0m\n\u001b[1;32m      1\u001b[0m \u001b[0;32mwith\u001b[0m \u001b[0mopen\u001b[0m\u001b[0;34m(\u001b[0m\u001b[0;34m'labels.txt'\u001b[0m\u001b[0;34m,\u001b[0m \u001b[0;34m'w'\u001b[0m\u001b[0;34m)\u001b[0m \u001b[0;32mas\u001b[0m \u001b[0mf\u001b[0m\u001b[0;34m:\u001b[0m\u001b[0;34m\u001b[0m\u001b[0;34m\u001b[0m\u001b[0m\n\u001b[0;32m----> 2\u001b[0;31m     \u001b[0mf\u001b[0m\u001b[0;34m.\u001b[0m\u001b[0mwrite\u001b[0m\u001b[0;34m(\u001b[0m\u001b[0;34m'\\n'\u001b[0m\u001b[0;34m.\u001b[0m\u001b[0mjoin\u001b[0m\u001b[0;34m(\u001b[0m\u001b[0mclass_names\u001b[0m\u001b[0;34m)\u001b[0m\u001b[0;34m)\u001b[0m\u001b[0;34m\u001b[0m\u001b[0;34m\u001b[0m\u001b[0m\n\u001b[0m",
            "\u001b[0;31mNameError\u001b[0m: name 'class_names' is not defined"
          ]
        }
      ]
    },
    {
      "cell_type": "code",
      "metadata": {
        "id": "OMVHETaK1khB"
      },
      "source": [
        "try:\n",
        "    from google.colab import files\n",
        "    files.download('converted_model.tflite')\n",
        "    files.download('labels.txt')\n",
        "except:\n",
        "    pass"
      ],
      "execution_count": null,
      "outputs": []
    }
  ]
}